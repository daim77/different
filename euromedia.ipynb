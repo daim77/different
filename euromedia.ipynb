{
 "cells": [
  {
   "cell_type": "code",
   "execution_count": 1,
   "metadata": {
    "collapsed": true
   },
   "outputs": [],
   "source": [
    "import pandas as pd"
   ]
  },
  {
   "cell_type": "code",
   "execution_count": 11,
   "outputs": [
    {
     "data": {
      "text/plain": "                              Název knihy                  Autor  \\\n0  Tancuj, tancuj, tancuj - audioknihovna        Murakami Haruki   \n1                 Život není skákací hrad      Hülsmannová Petra   \n2                           Vzpurná dcera    Banov Kaufmann Lori   \n3                        Nebezpečná místa     Gibneyová Patricia   \n4          Za války, 1918: Příslib naděje  Harrod-Eagles Cynthia   \n\n                   Žánr     MOC Nakladatel  Datum vydání  Číslo titulu  \n0      Česká literatura  399 Kč      Témbr  30. 06. 2021         41945  \n1  Beletrie pro dospělé  399 Kč       Ikar  01. 07. 2021         41815  \n2  Beletrie pro dospělé  359 Kč       Ikar  01. 07. 2021         41943  \n3  Beletrie pro dospělé  399 Kč     Kalibr  01. 07. 2021         42027  \n4  Beletrie pro dospělé  399 Kč      Brána  01. 07. 2021         42152  ",
      "text/html": "<div>\n<style scoped>\n    .dataframe tbody tr th:only-of-type {\n        vertical-align: middle;\n    }\n\n    .dataframe tbody tr th {\n        vertical-align: top;\n    }\n\n    .dataframe thead th {\n        text-align: right;\n    }\n</style>\n<table border=\"1\" class=\"dataframe\">\n  <thead>\n    <tr style=\"text-align: right;\">\n      <th></th>\n      <th>Název knihy</th>\n      <th>Autor</th>\n      <th>Žánr</th>\n      <th>MOC</th>\n      <th>Nakladatel</th>\n      <th>Datum vydání</th>\n      <th>Číslo titulu</th>\n    </tr>\n  </thead>\n  <tbody>\n    <tr>\n      <th>0</th>\n      <td>Tancuj, tancuj, tancuj - audioknihovna</td>\n      <td>Murakami Haruki</td>\n      <td>Česká literatura</td>\n      <td>399 Kč</td>\n      <td>Témbr</td>\n      <td>30. 06. 2021</td>\n      <td>41945</td>\n    </tr>\n    <tr>\n      <th>1</th>\n      <td>Život není skákací hrad</td>\n      <td>Hülsmannová Petra</td>\n      <td>Beletrie pro dospělé</td>\n      <td>399 Kč</td>\n      <td>Ikar</td>\n      <td>01. 07. 2021</td>\n      <td>41815</td>\n    </tr>\n    <tr>\n      <th>2</th>\n      <td>Vzpurná dcera</td>\n      <td>Banov Kaufmann Lori</td>\n      <td>Beletrie pro dospělé</td>\n      <td>359 Kč</td>\n      <td>Ikar</td>\n      <td>01. 07. 2021</td>\n      <td>41943</td>\n    </tr>\n    <tr>\n      <th>3</th>\n      <td>Nebezpečná místa</td>\n      <td>Gibneyová Patricia</td>\n      <td>Beletrie pro dospělé</td>\n      <td>399 Kč</td>\n      <td>Kalibr</td>\n      <td>01. 07. 2021</td>\n      <td>42027</td>\n    </tr>\n    <tr>\n      <th>4</th>\n      <td>Za války, 1918: Příslib naděje</td>\n      <td>Harrod-Eagles Cynthia</td>\n      <td>Beletrie pro dospělé</td>\n      <td>399 Kč</td>\n      <td>Brána</td>\n      <td>01. 07. 2021</td>\n      <td>42152</td>\n    </tr>\n  </tbody>\n</table>\n</div>"
     },
     "execution_count": 11,
     "metadata": {},
     "output_type": "execute_result"
    }
   ],
   "source": [
    "df = pd.read_html('http://edicni-plan.euromedia.cz')[0]\n",
    "df.head()"
   ],
   "metadata": {
    "collapsed": false,
    "pycharm": {
     "name": "#%%\n"
    }
   }
  },
  {
   "cell_type": "code",
   "execution_count": 4,
   "outputs": [
    {
     "name": "stdout",
     "output_type": "stream",
     "text": [
      "Index(['Název knihy', 'Autor', 'Žánr', 'MOC', 'Nakladatel', 'Datum vydání',\n",
      "       'Číslo titulu'],\n",
      "      dtype='object')\n"
     ]
    }
   ],
   "source": [
    "print(df.columns)"
   ],
   "metadata": {
    "collapsed": false,
    "pycharm": {
     "name": "#%%\n"
    }
   }
  },
  {
   "cell_type": "code",
   "execution_count": 9,
   "outputs": [
    {
     "name": "stdout",
     "output_type": "stream",
     "text": [
      "<class 'pandas.core.frame.DataFrame'>\n",
      "RangeIndex: 704 entries, 0 to 703\n",
      "Data columns (total 7 columns):\n",
      " #   Column        Non-Null Count  Dtype         \n",
      "---  ------        --------------  -----         \n",
      " 0   Název knihy   704 non-null    object        \n",
      " 1   Autor         704 non-null    object        \n",
      " 2   Žánr          704 non-null    object        \n",
      " 3   MOC           704 non-null    float64       \n",
      " 4   Nakladatel    704 non-null    object        \n",
      " 5   Datum vydání  704 non-null    datetime64[ns]\n",
      " 6   Číslo titulu  704 non-null    int64         \n",
      "dtypes: datetime64[ns](1), float64(1), int64(1), object(4)\n",
      "memory usage: 38.6+ KB\n"
     ]
    }
   ],
   "source": [
    "df.info()"
   ],
   "metadata": {
    "collapsed": false,
    "pycharm": {
     "name": "#%%\n"
    }
   }
  },
  {
   "cell_type": "code",
   "execution_count": 19,
   "outputs": [],
   "source": [
    "def convert_date(datum_vydani):\n",
    "    rok = datum_vydani.split()[2] + '-'\n",
    "    mesic = datum_vydani.split()[1].replace('.', '-')\n",
    "    den = datum_vydani.split()[0].replace('.', '')\n",
    "    return rok + mesic + den\n",
    "\n",
    "\n",
    "df['Datum vydání'] = df['Datum vydání'].apply(lambda x: convert_date(x))\n",
    "df['Datum vydání'] = pd.to_datetime(df['Datum vydání'])\n",
    "df['MOC'] = df['MOC'].replace({' Kč': ''}, regex=True).astype('float')"
   ],
   "metadata": {
    "collapsed": false,
    "pycharm": {
     "name": "#%%\n"
    }
   }
  },
  {
   "cell_type": "code",
   "execution_count": 23,
   "outputs": [
    {
     "data": {
      "text/plain": "                              Název knihy                  Autor  \\\n0  Tancuj, tancuj, tancuj - audioknihovna        Murakami Haruki   \n1                 Život není skákací hrad      Hülsmannová Petra   \n2                           Vzpurná dcera    Banov Kaufmann Lori   \n3                        Nebezpečná místa     Gibneyová Patricia   \n4          Za války, 1918: Příslib naděje  Harrod-Eagles Cynthia   \n\n                   Žánr    MOC Nakladatel Datum vydání  Číslo titulu  \n0      Česká literatura  399.0      Témbr   2021-06-30         41945  \n1  Beletrie pro dospělé  399.0       Ikar   2021-07-01         41815  \n2  Beletrie pro dospělé  359.0       Ikar   2021-07-01         41943  \n3  Beletrie pro dospělé  399.0     Kalibr   2021-07-01         42027  \n4  Beletrie pro dospělé  399.0      Brána   2021-07-01         42152  ",
      "text/html": "<div>\n<style scoped>\n    .dataframe tbody tr th:only-of-type {\n        vertical-align: middle;\n    }\n\n    .dataframe tbody tr th {\n        vertical-align: top;\n    }\n\n    .dataframe thead th {\n        text-align: right;\n    }\n</style>\n<table border=\"1\" class=\"dataframe\">\n  <thead>\n    <tr style=\"text-align: right;\">\n      <th></th>\n      <th>Název knihy</th>\n      <th>Autor</th>\n      <th>Žánr</th>\n      <th>MOC</th>\n      <th>Nakladatel</th>\n      <th>Datum vydání</th>\n      <th>Číslo titulu</th>\n    </tr>\n  </thead>\n  <tbody>\n    <tr>\n      <th>0</th>\n      <td>Tancuj, tancuj, tancuj - audioknihovna</td>\n      <td>Murakami Haruki</td>\n      <td>Česká literatura</td>\n      <td>399.0</td>\n      <td>Témbr</td>\n      <td>2021-06-30</td>\n      <td>41945</td>\n    </tr>\n    <tr>\n      <th>1</th>\n      <td>Život není skákací hrad</td>\n      <td>Hülsmannová Petra</td>\n      <td>Beletrie pro dospělé</td>\n      <td>399.0</td>\n      <td>Ikar</td>\n      <td>2021-07-01</td>\n      <td>41815</td>\n    </tr>\n    <tr>\n      <th>2</th>\n      <td>Vzpurná dcera</td>\n      <td>Banov Kaufmann Lori</td>\n      <td>Beletrie pro dospělé</td>\n      <td>359.0</td>\n      <td>Ikar</td>\n      <td>2021-07-01</td>\n      <td>41943</td>\n    </tr>\n    <tr>\n      <th>3</th>\n      <td>Nebezpečná místa</td>\n      <td>Gibneyová Patricia</td>\n      <td>Beletrie pro dospělé</td>\n      <td>399.0</td>\n      <td>Kalibr</td>\n      <td>2021-07-01</td>\n      <td>42027</td>\n    </tr>\n    <tr>\n      <th>4</th>\n      <td>Za války, 1918: Příslib naděje</td>\n      <td>Harrod-Eagles Cynthia</td>\n      <td>Beletrie pro dospělé</td>\n      <td>399.0</td>\n      <td>Brána</td>\n      <td>2021-07-01</td>\n      <td>42152</td>\n    </tr>\n  </tbody>\n</table>\n</div>"
     },
     "execution_count": 23,
     "metadata": {},
     "output_type": "execute_result"
    }
   ],
   "source": [
    "df.head()"
   ],
   "metadata": {
    "collapsed": false,
    "pycharm": {
     "name": "#%%\n"
    }
   }
  },
  {
   "cell_type": "code",
   "execution_count": 32,
   "outputs": [
    {
     "data": {
      "text/plain": "    Datum vydání\nmin   2021-06-30\nmax   2026-10-01",
      "text/html": "<div>\n<style scoped>\n    .dataframe tbody tr th:only-of-type {\n        vertical-align: middle;\n    }\n\n    .dataframe tbody tr th {\n        vertical-align: top;\n    }\n\n    .dataframe thead th {\n        text-align: right;\n    }\n</style>\n<table border=\"1\" class=\"dataframe\">\n  <thead>\n    <tr style=\"text-align: right;\">\n      <th></th>\n      <th>Datum vydání</th>\n    </tr>\n  </thead>\n  <tbody>\n    <tr>\n      <th>min</th>\n      <td>2021-06-30</td>\n    </tr>\n    <tr>\n      <th>max</th>\n      <td>2026-10-01</td>\n    </tr>\n  </tbody>\n</table>\n</div>"
     },
     "execution_count": 32,
     "metadata": {},
     "output_type": "execute_result"
    }
   ],
   "source": [
    "df.agg({'Datum vydání': ['min', 'max']})"
   ],
   "metadata": {
    "collapsed": false,
    "pycharm": {
     "name": "#%%\n"
    }
   }
  },
  {
   "cell_type": "markdown",
   "source": [
    "prumerna cena knihy vydana v cervenci 2021"
   ],
   "metadata": {
    "collapsed": false,
    "pycharm": {
     "name": "#%% md\n"
    }
   }
  },
  {
   "cell_type": "code",
   "execution_count": 28,
   "outputs": [
    {
     "data": {
      "text/plain": "              MOC Datum vydání\nmean   337.651163          NaT\ncount   43.000000          NaT\nmin      0.000000          NaT\nmax    599.000000   2021-07-28",
      "text/html": "<div>\n<style scoped>\n    .dataframe tbody tr th:only-of-type {\n        vertical-align: middle;\n    }\n\n    .dataframe tbody tr th {\n        vertical-align: top;\n    }\n\n    .dataframe thead th {\n        text-align: right;\n    }\n</style>\n<table border=\"1\" class=\"dataframe\">\n  <thead>\n    <tr style=\"text-align: right;\">\n      <th></th>\n      <th>MOC</th>\n      <th>Datum vydání</th>\n    </tr>\n  </thead>\n  <tbody>\n    <tr>\n      <th>mean</th>\n      <td>337.651163</td>\n      <td>NaT</td>\n    </tr>\n    <tr>\n      <th>count</th>\n      <td>43.000000</td>\n      <td>NaT</td>\n    </tr>\n    <tr>\n      <th>min</th>\n      <td>0.000000</td>\n      <td>NaT</td>\n    </tr>\n    <tr>\n      <th>max</th>\n      <td>599.000000</td>\n      <td>2021-07-28</td>\n    </tr>\n  </tbody>\n</table>\n</div>"
     },
     "execution_count": 28,
     "metadata": {},
     "output_type": "execute_result"
    }
   ],
   "source": [
    "selection = (df['Datum vydání'] >= '2021-07-01') & (df['Datum vydání'] <= '2021-07-31')\n",
    "df.loc[selection, :].agg({'MOC': ['mean', 'count', 'min', 'max'], 'Datum vydání': 'max'})"
   ],
   "metadata": {
    "collapsed": false,
    "pycharm": {
     "name": "#%%\n"
    }
   }
  },
  {
   "cell_type": "code",
   "execution_count": 34,
   "outputs": [
    {
     "data": {
      "text/plain": "                       Název knihy           Autor                  Žánr  MOC  \\\n30  Pedagogický zápisník 2021/2022  Köpplová Pavla  Beletrie pro dospělé  0.0   \n37       Poslední dopis od milence   Moyesová Jojo  Beletrie pro dospělé  0.0   \n\n   Nakladatel Datum vydání  Číslo titulu  \n30  Universum   2021-07-15         42842  \n37       Ikar   2021-07-19         42818  ",
      "text/html": "<div>\n<style scoped>\n    .dataframe tbody tr th:only-of-type {\n        vertical-align: middle;\n    }\n\n    .dataframe tbody tr th {\n        vertical-align: top;\n    }\n\n    .dataframe thead th {\n        text-align: right;\n    }\n</style>\n<table border=\"1\" class=\"dataframe\">\n  <thead>\n    <tr style=\"text-align: right;\">\n      <th></th>\n      <th>Název knihy</th>\n      <th>Autor</th>\n      <th>Žánr</th>\n      <th>MOC</th>\n      <th>Nakladatel</th>\n      <th>Datum vydání</th>\n      <th>Číslo titulu</th>\n    </tr>\n  </thead>\n  <tbody>\n    <tr>\n      <th>30</th>\n      <td>Pedagogický zápisník 2021/2022</td>\n      <td>Köpplová Pavla</td>\n      <td>Beletrie pro dospělé</td>\n      <td>0.0</td>\n      <td>Universum</td>\n      <td>2021-07-15</td>\n      <td>42842</td>\n    </tr>\n    <tr>\n      <th>37</th>\n      <td>Poslední dopis od milence</td>\n      <td>Moyesová Jojo</td>\n      <td>Beletrie pro dospělé</td>\n      <td>0.0</td>\n      <td>Ikar</td>\n      <td>2021-07-19</td>\n      <td>42818</td>\n    </tr>\n  </tbody>\n</table>\n</div>"
     },
     "execution_count": 34,
     "metadata": {},
     "output_type": "execute_result"
    }
   ],
   "source": [
    "df.loc[selection & (df.MOC == 0), :]"
   ],
   "metadata": {
    "collapsed": false,
    "pycharm": {
     "name": "#%%\n"
    }
   }
  },
  {
   "cell_type": "code",
   "execution_count": 36,
   "outputs": [
    {
     "data": {
      "text/plain": "''"
     },
     "execution_count": 36,
     "metadata": {},
     "output_type": "execute_result"
    },
    {
     "data": {
      "text/plain": "<Figure size 432x288 with 1 Axes>",
      "image/png": "[encoded data removed]"
     },
     "metadata": {
      "needs_background": "light"
     },
     "output_type": "display_data"
    }
   ],
   "source": [
    "df.loc[selection, :].plot(x='Datum vydání', y='MOC')\n",
    ";"
   ],
   "metadata": {
    "collapsed": false,
    "pycharm": {
     "name": "#%%\n"
    }
   }
  },
  {
   "cell_type": "code",
   "execution_count": 37,
   "outputs": [
    {
     "data": {
      "text/plain": "array(['Beletrie pro dospělé', 'Cestování, mapy', 'Česká literatura',\n       'Děti do 10 let', 'Populárně naučná pro dospělé',\n       'Literatura faktu'], dtype=object)"
     },
     "execution_count": 37,
     "metadata": {},
     "output_type": "execute_result"
    }
   ],
   "source": [
    "df.loc[selection, 'Žánr'].unique()"
   ],
   "metadata": {
    "collapsed": false,
    "pycharm": {
     "name": "#%%\n"
    }
   }
  },
  {
   "cell_type": "code",
   "execution_count": 54,
   "outputs": [
    {
     "data": {
      "text/plain": "39"
     },
     "execution_count": 54,
     "metadata": {},
     "output_type": "execute_result"
    }
   ],
   "source": [
    "len(list(df.loc[selection, :]['Autor'].unique()))"
   ],
   "metadata": {
    "collapsed": false,
    "pycharm": {
     "name": "#%%\n"
    }
   }
  }
 ],
 "metadata": {
  "kernelspec": {
   "display_name": "Python 3",
   "language": "python",
   "name": "python3"
  },
  "language_info": {
   "codemirror_mode": {
    "name": "ipython",
    "version": 2
   },
   "file_extension": ".py",
   "mimetype": "text/x-python",
   "name": "python",
   "nbconvert_exporter": "python",
   "pygments_lexer": "ipython2",
   "version": "2.7.6"
  }
 },
 "nbformat": 4,
 "nbformat_minor": 0
}