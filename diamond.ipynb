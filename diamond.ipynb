{
 "cells": [
  {
   "cell_type": "code",
   "execution_count": 4,
   "outputs": [],
   "source": [
    "import numpy as np"
   ],
   "metadata": {
    "collapsed": false,
    "pycharm": {
     "name": "#%%\n"
    }
   }
  },
  {
   "cell_type": "code",
   "execution_count": 8,
   "metadata": {
    "collapsed": true
   },
   "outputs": [],
   "source": [
    "my_data = []\n",
    "with open('/Users/martindanek/Documents/programovani/files/tables/diamond_numbers.txt') as file:\n",
    "    # my_data.append(file.readline().split())\n",
    "    for line in file:\n",
    "        my_data.append([int(x) for x in line.split()])"
   ]
  },
  {
   "cell_type": "code",
   "execution_count": 3,
   "outputs": [
    {
     "name": "stdout",
     "output_type": "stream",
     "text": [
      "odd amount of lines is required\n",
      "rows 7\n"
     ]
    },
    {
     "data": {
      "text/plain": "[['5'],\n ['5', '9'],\n ['8', '7', '3'],\n ['6', '5', '6', '1'],\n ['4', '3', '2'],\n ['1', '4'],\n ['3']]"
     },
     "execution_count": 3,
     "metadata": {},
     "output_type": "execute_result"
    }
   ],
   "source": [
    "if len(my_data) % 2 != 0:\n",
    "    print('odd amount of lines is required')\n",
    "print('rows', len(my_data))"
   ],
   "metadata": {
    "collapsed": false,
    "pycharm": {
     "name": "#%%\n"
    }
   }
  },
  {
   "cell_type": "code",
   "execution_count": 13,
   "outputs": [],
   "source": [
    "coef = int((len(my_data) + 1) / 2)\n",
    "for item in my_data:\n",
    "    len_item = len(item)\n",
    "    if len_item < coef:\n",
    "        for i in range(coef - len_item):\n",
    "            item.append(0)\n",
    "my_data = np.array(my_data)"
   ],
   "metadata": {
    "collapsed": false,
    "pycharm": {
     "name": "#%%\n"
    }
   }
  },
  {
   "cell_type": "code",
   "execution_count": 19,
   "outputs": [
    {
     "data": {
      "text/plain": "array([[5, 0, 0, 0],\n       [5, 9, 0, 0],\n       [8, 7, 3, 0],\n       [6, 5, 6, 1],\n       [4, 3, 2, 0],\n       [1, 4, 0, 0],\n       [3, 0, 0, 0]])"
     },
     "execution_count": 19,
     "metadata": {},
     "output_type": "execute_result"
    }
   ],
   "source": [
    "my_data"
   ],
   "metadata": {
    "collapsed": false,
    "pycharm": {
     "name": "#%%\n"
    }
   }
  },
  {
   "cell_type": "code",
   "execution_count": 25,
   "outputs": [
    {
     "data": {
      "text/plain": "array([[ 0, -5, -5, -5],\n       [-4,  0, -9, -9],\n       [ 0, -1, -5, -8],\n       [ 0, -1,  0, -5],\n       [ 0, -1, -2, -4],\n       [-3,  0, -4, -4],\n       [ 0, -3, -3, -3]])"
     },
     "execution_count": 25,
     "metadata": {},
     "output_type": "execute_result"
    }
   ],
   "source": [
    "my_array = np.zeros((my_data.shape[0], my_data.shape[1]), dtype=int)\n",
    "for i in range(my_data.shape[0]):\n",
    "    my_max = max(my_data[i])\n",
    "    my_array[i] = np.array([my_max for i in range(my_data.shape[1])])\n",
    "\n",
    "np.subtract(my_data, my_array)\n"
   ],
   "metadata": {
    "collapsed": false,
    "pycharm": {
     "name": "#%%\n"
    }
   }
  }
 ],
 "metadata": {
  "kernelspec": {
   "display_name": "Python 3",
   "language": "python",
   "name": "python3"
  },
  "language_info": {
   "codemirror_mode": {
    "name": "ipython",
    "version": 2
   },
   "file_extension": ".py",
   "mimetype": "text/x-python",
   "name": "python",
   "nbconvert_exporter": "python",
   "pygments_lexer": "ipython2",
   "version": "2.7.6"
  }
 },
 "nbformat": 4,
 "nbformat_minor": 0
}